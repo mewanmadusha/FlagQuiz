{
  "nbformat": 4,
  "nbformat_minor": 0,
  "metadata": {
    "colab": {
      "name": "1.4widgets.ipynb",
      "version": "0.3.2",
      "provenance": [],
      "collapsed_sections": [],
      "include_colab_link": true
    },
    "kernelspec": {
      "name": "python3",
      "display_name": "Python 3"
    }
  },
  "cells": [
    {
      "cell_type": "markdown",
      "metadata": {
        "id": "view-in-github",
        "colab_type": "text"
      },
      "source": [
        "<a href=\"https://colab.research.google.com/github/mmadusha/FlagQuiz/blob/master/1_4widgets.ipynb\" target=\"_parent\"><img src=\"https://colab.research.google.com/assets/colab-badge.svg\" alt=\"Open In Colab\"/></a>"
      ]
    },
    {
      "cell_type": "code",
      "metadata": {
        "id": "1LvuW8I8kk_g",
        "colab_type": "code",
        "colab": {
          "base_uri": "https://localhost:8080/",
          "height": 90
        },
        "outputId": "5eeb504f-eb0e-480e-a6f9-ca1a69bc1848"
      },
      "source": [
        "from google.colab import widgets\n",
        "\n",
        "print(\"I am the first print statement of the cell\")\n",
        "\n",
        "# Now we can create a grid, optional header_row and header_column\n",
        "# control whether we want header elements in the grid\n",
        "grid = widgets.Grid(2, 3, header_row=True, header_column=True)\n",
        "with grid.output_to(1, 1):\n",
        "  print(\"Bye grid\")\n",
        "\n",
        "# Note we can output to arbitrary cell, not necessarily in order\n",
        "with grid.output_to(0, 0):\n",
        "  print(\"Hello grid\")\n",
        "\n",
        "print(\"Now we are outside\")\n",
        "\n",
        "with grid.output_to(1, 0):\n",
        "  print(\"Back inside!\")\n",
        "  \n",
        "with grid.output_to(1, 2):\n",
        "  print(\"Back inside!\")\n",
        "# Any output can be printed to individual cells, not just print statements."
      ],
      "execution_count": 4,
      "outputs": [
        {
          "output_type": "stream",
          "text": [
            "I am the first print statement of the cell\n"
          ],
          "name": "stdout"
        },
        {
          "output_type": "display_data",
          "data": {
            "text/html": [
              "<style>\n",
              "       table#id8, #id8 > tbody > tr > th, #id8 > tbody > tr > td {\n",
              "         border: 1px solid lightgray;\n",
              "         border-collapse:collapse;\n",
              "         \n",
              "        }</style>"
            ],
            "text/plain": [
              "<IPython.core.display.HTML object>"
            ]
          },
          "metadata": {
            "tags": [
              "outputarea_id8"
            ]
          }
        },
        {
          "output_type": "display_data",
          "data": {
            "text/html": [
              "<table id=id8><tr><th id=id8-0-0></th><th id=id8-0-1></th><th id=id8-0-2></th></tr><tr><th id=id8-1-0></th><td id=id8-1-1></td><td id=id8-1-2></td></tr></table>"
            ],
            "text/plain": [
              "<IPython.core.display.HTML object>"
            ]
          },
          "metadata": {
            "tags": [
              "outputarea_id8"
            ]
          }
        },
        {
          "output_type": "display_data",
          "data": {
            "application/javascript": [
              "window[\"322993fe-a9e1-11e9-8d07-0242ac1c0002\"] = google.colab.output.getActiveOutputArea();\n",
              "//# sourceURL=js_cc0b72db87"
            ],
            "text/plain": [
              "<IPython.core.display.Javascript object>"
            ]
          },
          "metadata": {
            "tags": [
              "id8-1-1",
              "outputarea_id8"
            ]
          }
        },
        {
          "output_type": "display_data",
          "data": {
            "application/javascript": [
              "window[\"322b13d2-a9e1-11e9-8d07-0242ac1c0002\"] = document.querySelector(\"#id8-1-1\");\n",
              "//# sourceURL=js_aa8b86cc64"
            ],
            "text/plain": [
              "<IPython.core.display.Javascript object>"
            ]
          },
          "metadata": {
            "tags": [
              "id8-1-1",
              "outputarea_id8"
            ]
          }
        },
        {
          "output_type": "display_data",
          "data": {
            "application/javascript": [
              "window[\"322beffa-a9e1-11e9-8d07-0242ac1c0002\"] = google.colab.output.setActiveOutputArea(window[\"322b13d2-a9e1-11e9-8d07-0242ac1c0002\"]);\n",
              "//# sourceURL=js_5a1da477a9"
            ],
            "text/plain": [
              "<IPython.core.display.Javascript object>"
            ]
          },
          "metadata": {
            "tags": [
              "id8-1-1",
              "outputarea_id8"
            ]
          }
        },
        {
          "output_type": "stream",
          "text": [
            "Bye grid\n"
          ],
          "name": "stdout"
        },
        {
          "output_type": "display_data",
          "data": {
            "application/javascript": [
              "window[\"322d0e30-a9e1-11e9-8d07-0242ac1c0002\"] = google.colab.output.setActiveOutputArea(window[\"322993fe-a9e1-11e9-8d07-0242ac1c0002\"]);\n",
              "//# sourceURL=js_ebd832e2cc"
            ],
            "text/plain": [
              "<IPython.core.display.Javascript object>"
            ]
          },
          "metadata": {
            "tags": [
              "id8-1-1",
              "outputarea_id8"
            ]
          }
        },
        {
          "output_type": "display_data",
          "data": {
            "application/javascript": [
              "window[\"322e7dc4-a9e1-11e9-8d07-0242ac1c0002\"] = google.colab.output.getActiveOutputArea();\n",
              "//# sourceURL=js_3e697315e9"
            ],
            "text/plain": [
              "<IPython.core.display.Javascript object>"
            ]
          },
          "metadata": {
            "tags": [
              "id8-0-0",
              "outputarea_id8"
            ]
          }
        },
        {
          "output_type": "display_data",
          "data": {
            "application/javascript": [
              "window[\"322ec856-a9e1-11e9-8d07-0242ac1c0002\"] = document.querySelector(\"#id8-0-0\");\n",
              "//# sourceURL=js_d79f83e1d9"
            ],
            "text/plain": [
              "<IPython.core.display.Javascript object>"
            ]
          },
          "metadata": {
            "tags": [
              "id8-0-0",
              "outputarea_id8"
            ]
          }
        },
        {
          "output_type": "display_data",
          "data": {
            "application/javascript": [
              "window[\"322f2062-a9e1-11e9-8d07-0242ac1c0002\"] = google.colab.output.setActiveOutputArea(window[\"322ec856-a9e1-11e9-8d07-0242ac1c0002\"]);\n",
              "//# sourceURL=js_d681c607c9"
            ],
            "text/plain": [
              "<IPython.core.display.Javascript object>"
            ]
          },
          "metadata": {
            "tags": [
              "id8-0-0",
              "outputarea_id8"
            ]
          }
        },
        {
          "output_type": "stream",
          "text": [
            "Hello grid\n"
          ],
          "name": "stdout"
        },
        {
          "output_type": "display_data",
          "data": {
            "application/javascript": [
              "window[\"3230127e-a9e1-11e9-8d07-0242ac1c0002\"] = google.colab.output.setActiveOutputArea(window[\"322e7dc4-a9e1-11e9-8d07-0242ac1c0002\"]);\n",
              "//# sourceURL=js_642b0e5187"
            ],
            "text/plain": [
              "<IPython.core.display.Javascript object>"
            ]
          },
          "metadata": {
            "tags": [
              "id8-0-0",
              "outputarea_id8"
            ]
          }
        },
        {
          "output_type": "stream",
          "text": [
            "Now we are outside\n"
          ],
          "name": "stdout"
        },
        {
          "output_type": "display_data",
          "data": {
            "application/javascript": [
              "window[\"3231919e-a9e1-11e9-8d07-0242ac1c0002\"] = google.colab.output.getActiveOutputArea();\n",
              "//# sourceURL=js_9f36e67214"
            ],
            "text/plain": [
              "<IPython.core.display.Javascript object>"
            ]
          },
          "metadata": {
            "tags": [
              "id8-1-0",
              "outputarea_id8"
            ]
          }
        },
        {
          "output_type": "display_data",
          "data": {
            "application/javascript": [
              "window[\"3231e45a-a9e1-11e9-8d07-0242ac1c0002\"] = document.querySelector(\"#id8-1-0\");\n",
              "//# sourceURL=js_e530ce4ea1"
            ],
            "text/plain": [
              "<IPython.core.display.Javascript object>"
            ]
          },
          "metadata": {
            "tags": [
              "id8-1-0",
              "outputarea_id8"
            ]
          }
        },
        {
          "output_type": "display_data",
          "data": {
            "application/javascript": [
              "window[\"32322a8c-a9e1-11e9-8d07-0242ac1c0002\"] = google.colab.output.setActiveOutputArea(window[\"3231e45a-a9e1-11e9-8d07-0242ac1c0002\"]);\n",
              "//# sourceURL=js_537cf2fbe0"
            ],
            "text/plain": [
              "<IPython.core.display.Javascript object>"
            ]
          },
          "metadata": {
            "tags": [
              "id8-1-0",
              "outputarea_id8"
            ]
          }
        },
        {
          "output_type": "stream",
          "text": [
            "Back inside!\n"
          ],
          "name": "stdout"
        },
        {
          "output_type": "display_data",
          "data": {
            "application/javascript": [
              "window[\"3232c988-a9e1-11e9-8d07-0242ac1c0002\"] = google.colab.output.setActiveOutputArea(window[\"3231919e-a9e1-11e9-8d07-0242ac1c0002\"]);\n",
              "//# sourceURL=js_1cd0ca3924"
            ],
            "text/plain": [
              "<IPython.core.display.Javascript object>"
            ]
          },
          "metadata": {
            "tags": [
              "id8-1-0",
              "outputarea_id8"
            ]
          }
        },
        {
          "output_type": "display_data",
          "data": {
            "application/javascript": [
              "window[\"3233a86c-a9e1-11e9-8d07-0242ac1c0002\"] = google.colab.output.getActiveOutputArea();\n",
              "//# sourceURL=js_c459fe4c1a"
            ],
            "text/plain": [
              "<IPython.core.display.Javascript object>"
            ]
          },
          "metadata": {
            "tags": [
              "id8-1-2",
              "outputarea_id8"
            ]
          }
        },
        {
          "output_type": "display_data",
          "data": {
            "application/javascript": [
              "window[\"3233d972-a9e1-11e9-8d07-0242ac1c0002\"] = document.querySelector(\"#id8-1-2\");\n",
              "//# sourceURL=js_00326f545a"
            ],
            "text/plain": [
              "<IPython.core.display.Javascript object>"
            ]
          },
          "metadata": {
            "tags": [
              "id8-1-2",
              "outputarea_id8"
            ]
          }
        },
        {
          "output_type": "display_data",
          "data": {
            "application/javascript": [
              "window[\"3234092e-a9e1-11e9-8d07-0242ac1c0002\"] = google.colab.output.setActiveOutputArea(window[\"3233d972-a9e1-11e9-8d07-0242ac1c0002\"]);\n",
              "//# sourceURL=js_2b7d00352f"
            ],
            "text/plain": [
              "<IPython.core.display.Javascript object>"
            ]
          },
          "metadata": {
            "tags": [
              "id8-1-2",
              "outputarea_id8"
            ]
          }
        },
        {
          "output_type": "stream",
          "text": [
            "Back inside!\n"
          ],
          "name": "stdout"
        },
        {
          "output_type": "display_data",
          "data": {
            "application/javascript": [
              "window[\"32349e84-a9e1-11e9-8d07-0242ac1c0002\"] = google.colab.output.setActiveOutputArea(window[\"3233a86c-a9e1-11e9-8d07-0242ac1c0002\"]);\n",
              "//# sourceURL=js_121b5e2590"
            ],
            "text/plain": [
              "<IPython.core.display.Javascript object>"
            ]
          },
          "metadata": {
            "tags": [
              "id8-1-2",
              "outputarea_id8"
            ]
          }
        }
      ]
    }
  ]
}